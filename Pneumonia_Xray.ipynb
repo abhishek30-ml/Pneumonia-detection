{
  "nbformat": 4,
  "nbformat_minor": 0,
  "metadata": {
    "colab": {
      "name": "Pneumonia_Xray.ipynb",
      "provenance": [],
      "collapsed_sections": [],
      "authorship_tag": "ABX9TyPLSckDhiV2Je6scPnAuMaB",
      "include_colab_link": true
    },
    "kernelspec": {
      "name": "python3",
      "display_name": "Python 3"
    }
  },
  "cells": [
    {
      "cell_type": "markdown",
      "metadata": {
        "id": "view-in-github",
        "colab_type": "text"
      },
      "source": [
        "<a href=\"https://colab.research.google.com/github/abhishek30-ml/Pneumonia-detection/blob/master/Pneumonia_Xray.ipynb\" target=\"_parent\"><img src=\"https://colab.research.google.com/assets/colab-badge.svg\" alt=\"Open In Colab\"/></a>"
      ]
    },
    {
      "cell_type": "code",
      "metadata": {
        "id": "o7UEmNB3u3IB",
        "colab_type": "code",
        "colab": {}
      },
      "source": [
        "from google.colab import files\n",
        "\n",
        "# Install Kaggle library\n",
        "!pip install -q kaggle"
      ],
      "execution_count": 0,
      "outputs": []
    },
    {
      "cell_type": "code",
      "metadata": {
        "id": "g9hpnCLBvQQN",
        "colab_type": "code",
        "outputId": "990252b5-af80-4e25-d734-3e507fd90392",
        "colab": {
          "resources": {
            "http://localhost:8080/nbextensions/google.colab/files.js": {
              "data": "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",
              "ok": true,
              "headers": [
                [
                  "content-type",
                  "application/javascript"
                ]
              ],
              "status": 200,
              "status_text": ""
            }
          },
          "base_uri": "https://localhost:8080/",
          "height": 75
        }
      },
      "source": [
        "# Upload kaggle API key file\n",
        "uploaded = files.upload()"
      ],
      "execution_count": 0,
      "outputs": [
        {
          "output_type": "display_data",
          "data": {
            "text/html": [
              "\n",
              "     <input type=\"file\" id=\"files-4787ccc2-45f5-462b-b4cd-8a6d863cbd1b\" name=\"files[]\" multiple disabled />\n",
              "     <output id=\"result-4787ccc2-45f5-462b-b4cd-8a6d863cbd1b\">\n",
              "      Upload widget is only available when the cell has been executed in the\n",
              "      current browser session. Please rerun this cell to enable.\n",
              "      </output>\n",
              "      <script src=\"/nbextensions/google.colab/files.js\"></script> "
            ],
            "text/plain": [
              "<IPython.core.display.HTML object>"
            ]
          },
          "metadata": {
            "tags": []
          }
        },
        {
          "output_type": "stream",
          "text": [
            "Saving kaggle.json to kaggle.json\n"
          ],
          "name": "stdout"
        }
      ]
    },
    {
      "cell_type": "code",
      "metadata": {
        "id": "ByvFPC8mwYHm",
        "colab_type": "code",
        "outputId": "1f795755-ba5e-43e8-e967-9e2167acf99e",
        "colab": {
          "base_uri": "https://localhost:8080/",
          "height": 35
        }
      },
      "source": [
        " ! mkdir ~/.kaggle\n",
        "\n",
        "! cp kaggle.json ~/.kaggle/"
      ],
      "execution_count": 0,
      "outputs": [
        {
          "output_type": "stream",
          "text": [
            "mkdir: cannot create directory ‘/root/.kaggle’: File exists\n"
          ],
          "name": "stdout"
        }
      ]
    },
    {
      "cell_type": "code",
      "metadata": {
        "id": "fs4Be1U1w3gh",
        "colab_type": "code",
        "colab": {}
      },
      "source": [
        "! chmod 600 ~/.kaggle/kaggle.json"
      ],
      "execution_count": 0,
      "outputs": []
    },
    {
      "cell_type": "code",
      "metadata": {
        "id": "GTXFGWwiw7rE",
        "colab_type": "code",
        "outputId": "7989ed48-a948-447e-a00a-528bb19e5758",
        "colab": {
          "base_uri": "https://localhost:8080/",
          "height": 69
        }
      },
      "source": [
        "! kaggle datasets download -d paultimothymooney/chest-xray-pneumonia"
      ],
      "execution_count": 0,
      "outputs": [
        {
          "output_type": "stream",
          "text": [
            "Downloading chest-xray-pneumonia.zip to /content\n",
            "100% 2.29G/2.29G [00:19<00:00, 48.3MB/s]\n",
            "100% 2.29G/2.29G [00:20<00:00, 123MB/s] \n"
          ],
          "name": "stdout"
        }
      ]
    },
    {
      "cell_type": "code",
      "metadata": {
        "id": "hkbaqQRzxA8f",
        "colab_type": "code",
        "colab": {}
      },
      "source": [
        "! mkdir total "
      ],
      "execution_count": 0,
      "outputs": []
    },
    {
      "cell_type": "code",
      "metadata": {
        "id": "mW4WWVtox1kF",
        "colab_type": "code",
        "outputId": "b7e28be0-1d51-4cb3-a275-8e8a292e5409",
        "colab": {
          "base_uri": "https://localhost:8080/",
          "height": 1000
        }
      },
     
    
    {
      "cell_type": "code",
      "metadata": {
        "id": "ZgU9qNYxz99d",
        "colab_type": "code",
        "colab": {}
      },
      "source": [
        "train_path = '/content/total/chest_xray/train'\n",
        "test_path = '/content/total/chest_xray/test'"
      ],
      "execution_count": 0,
      "outputs": []
    },
    {
      "cell_type": "code",
      "metadata": {
        "id": "sWYoxj5B2WbG",
        "colab_type": "code",
        "outputId": "646c62f5-180c-456d-a8f7-b78a7635ede2",
        "colab": {
          "base_uri": "https://localhost:8080/",
          "height": 35
        }
      },
      "source": [
        "from keras.preprocessing.image import ImageDataGenerator"
      ],
      "execution_count": 0,
      "outputs": [
        {
          "output_type": "stream",
          "text": [
            "Using TensorFlow backend.\n"
          ],
          "name": "stderr"
        }
      ]
    },
    {
      "cell_type": "code",
      "metadata": {
        "id": "xKw-56zr2gjR",
        "colab_type": "code",
        "outputId": "6906e150-2229-4dfd-80d7-0a50f242ecbc",
        "colab": {
          "base_uri": "https://localhost:8080/",
          "height": 35
        }
      },
      "source": [
        "train_datagen = ImageDataGenerator(rescale=1./255)\n",
        "train_dataset = train_datagen.flow_from_directory(train_path,\n",
        "                                                      target_size=(150,150),\n",
        "                                                  batch_size=32,\n",
        "                                                  color_mode='grayscale',\n",
        "                                                    class_mode ='categorical')"
      ],
      "execution_count": 0,
      "outputs": [
        {
          "output_type": "stream",
          "text": [
            "Found 5216 images belonging to 2 classes.\n"
          ],
          "name": "stdout"
        }
      ]
    },
    {
      "cell_type": "code",
      "metadata": {
        "id": "BU3z_GWq4R1Z",
        "colab_type": "code",
        "colab": {}
      },
      "source": [
        "x_batch, y_batch = next(train_dataset)"
      ],
      "execution_count": 0,
      "outputs": []
    },
    {
      "cell_type": "code",
      "metadata": {
        "id": "MZK7UkbA4evh",
        "colab_type": "code",
        "colab": {}
      },
      "source": [
        "x_batch = np.squeeze(x_batch)"
      ],
      "execution_count": 0,
      "outputs": []
    },
    {
      "cell_type": "code",
      "metadata": {
        "id": "Jvnf6B8eGaL5",
        "colab_type": "code",
        "outputId": "c5247dd0-06b4-4a81-aaf7-c60c9731fffa",
        "colab": {
          "base_uri": "https://localhost:8080/",
          "height": 243
        }
      },
      "source": [
        "y_batch.shape\n",
        "x_batch[1]"
      ],
      "execution_count": 0,
      "outputs": [
        {
          "output_type": "execute_result",
          "data": {
            "text/plain": [
              "array([[0.30588236, 0.31764707, 0.32156864, ..., 0.4901961 , 0.47058827,\n",
              "        0.454902  ],\n",
              "       [0.3137255 , 0.29803923, 0.32941177, ..., 0.43137258, 0.4666667 ,\n",
              "        0.4666667 ],\n",
              "       [0.31764707, 0.32941177, 0.32156864, ..., 0.4431373 , 0.48235297,\n",
              "        0.45882356],\n",
              "       ...,\n",
              "       [0.15686275, 0.23137257, 0.29803923, ..., 0.        , 0.        ,\n",
              "        0.        ],\n",
              "       [0.15294118, 0.24705884, 0.3137255 , ..., 0.        , 0.        ,\n",
              "        0.        ],\n",
              "       [0.16862746, 0.24705884, 0.32941177, ..., 0.        , 0.        ,\n",
              "        0.        ]], dtype=float32)"
            ]
          },
          "metadata": {
            "tags": []
          },
          "execution_count": 63
        }
      ]
    },
    {
      "cell_type": "code",
      "metadata": {
        "id": "Zto81CehGgyk",
        "colab_type": "code",
        "colab": {}
      },
      "source": [
        "import numpy as np\n",
        "import matplotlib.pyplot as plt\n",
        "import pandas as pd"
      ],
      "execution_count": 0,
      "outputs": []
    },
    {
      "cell_type": "code",
      "metadata": {
        "id": "I0taSJgySt3u",
        "colab_type": "code",
        "outputId": "5c24906f-d1f6-4e2d-a806-db1adbd8c537",
        "colab": {
          "base_uri": "https://localhost:8080/",
          "height": 269
        }
      },
      "source": [
        "for i in range (0,1):\n",
        "    image = x_batch[i]\n",
        "    plt.imshow(image, cmap=plt.get_cmap('gray'))\n",
        "    plt.show()"
      ],
      "execution_count": 0,
      "outputs": [
        {
          "output_type": "display_data",
          "data": {
            "image/png": "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\n",
            "text/plain": [
              "<Figure size 432x288 with 1 Axes>"
            ]
          },
          "metadata": {
            "tags": [],
            "needs_background": "light"
          }
        }
      ]
    },
    {
      "cell_type": "code",
      "metadata": {
        "id": "eDi3q_AYHLE6",
        "colab_type": "code",
        "colab": {}
      },
      "source": [
        "from keras.layers import Dense, Activation, ZeroPadding2D, BatchNormalization, Flatten, Conv2D, MaxPooling2D, Dropout\n",
        "from keras.models import Sequential\n",
        "import keras"
      ],
      "execution_count": 0,
      "outputs": []
    },
    {
      "cell_type": "code",
      "metadata": {
        "id": "NcRhH5KoHZ3q",
        "colab_type": "code",
        "colab": {}
      },
      "source": [
        "model = Sequential()\n",
        "\n",
        "model.add(Conv2D(filters= 64, padding='same', kernel_size=(11,11), input_shape=(150,150,1)))\n",
        "model.add(BatchNormalization())\n",
        "model.add(Activation('relu'))\n",
        "model.add(MaxPooling2D(pool_size=(2,2), strides=(2,2)))\n",
        "\n",
        "model.add(Conv2D(75, (7,7), padding='same'))\n",
        "model.add(BatchNormalization())\n",
        "model.add(Activation('relu'))\n",
        "model.add(MaxPooling2D((3,3), strides=(3,3)))\n",
        "\n",
        "model.add(Conv2D(100, (5,5), padding='same'))\n",
        "model.add(BatchNormalization())\n",
        "model.add(Activation('relu'))\n",
        "model.add(MaxPooling2D((5,5), (5,5)))\n",
        "\n",
        "model.add(Flatten())\n",
        "model.add(Dense(75, activation='relu', kernel_initializer='he_normal'))\n",
        "model.add(Dense(25, activation='relu', kernel_initializer='he_normal'))\n",
        "model.add(Dense(2,activation='softmax'))\n"
      ],
      "execution_count": 0,
      "outputs": []
    },
    {
      "cell_type": "code",
      "metadata": {
        "id": "9o82d1jliW56",
        "colab_type": "code",
        "colab": {}
      },
      "source": [
        "model.compile (loss = keras.losses.categorical_crossentropy,\n",
        "              optimizer=keras.optimizers.Adadelta(),\n",
        "              metrics=['accuracy'])"
      ],
      "execution_count": 0,
      "outputs": []
    },
    {
      "cell_type": "code",
      "metadata": {
        "id": "aogCz3rHpP9c",
        "colab_type": "code",
        "outputId": "4e5ca531-5f2c-43f2-88c2-24d030eebb66",
        "colab": {
          "base_uri": "https://localhost:8080/",
          "height": 208
        }
      },
      "source": [
        "model.fit(train_dataset, epochs=5)"
      ],
      "execution_count": 0,
      "outputs": [
        {
          "output_type": "stream",
          "text": [
            "Epoch 1/5\n",
            "163/163 [==============================] - 1493s 9s/step - loss: 0.3294 - accuracy: 0.8645\n",
            "Epoch 2/5\n",
            "163/163 [==============================] - 1493s 9s/step - loss: 0.1367 - accuracy: 0.9471\n",
            "Epoch 3/5\n",
            "163/163 [==============================] - 1492s 9s/step - loss: 0.1028 - accuracy: 0.9601\n",
            "Epoch 4/5\n",
            "163/163 [==============================] - 1489s 9s/step - loss: 0.0737 - accuracy: 0.9724\n",
            "Epoch 5/5\n",
            "163/163 [==============================] - 1493s 9s/step - loss: 0.0736 - accuracy: 0.9720\n"
          ],
          "name": "stdout"
        },
        {
          "output_type": "execute_result",
          "data": {
            "text/plain": [
              "<keras.callbacks.callbacks.History at 0x7f93ecbe62e8>"
            ]
          },
          "metadata": {
            "tags": []
          },
          "execution_count": 79
        }
      ]
    },
    {
      "cell_type": "code",
      "metadata": {
        "id": "qTJfxKRqpXeo",
        "colab_type": "code",
        "colab": {}
      },
      "source": [
        "! mkdir weights"
      ],
      "execution_count": 0,
      "outputs": []
    },
    {
      "cell_type": "code",
      "metadata": {
        "id": "g_BlvuAFHN_u",
        "colab_type": "code",
        "outputId": "1028fff8-2d6a-44a1-c973-4ccf8f879297",
        "colab": {
          "base_uri": "https://localhost:8080/",
          "height": 35
        }
      },
      "source": [
        "test_datagen = ImageDataGenerator(rescale=1./255,)\n",
        "test_dataset = test_datagen.flow_from_directory(test_path,\n",
        "                                                      target_size=(150,150),\n",
        "                                                  batch_size=1,\n",
        "                                                  color_mode='grayscale',\n",
        "                                                    class_mode ='categorical',\n",
        "                                                shuffle=False)"
      ],
      "execution_count": 0,
      "outputs": [
        {
          "output_type": "stream",
          "text": [
            "Found 624 images belonging to 2 classes.\n"
          ],
          "name": "stdout"
        }
      ]
    },
    {
      "cell_type": "code",
      "metadata": {
        "id": "j0GPJ3uQHTz1",
        "colab_type": "code",
        "outputId": "25967e20-a05c-4f6a-b907-d70024317f85",
        "colab": {
          "base_uri": "https://localhost:8080/",
          "height": 52
        }
      },
      "source": [
        "model.evaluate_generator(test_dataset, verbose=1)"
      ],
      "execution_count": 0,
      "outputs": [
        {
          "output_type": "stream",
          "text": [
            "624/624 [==============================] - 61s 98ms/step\n"
          ],
          "name": "stdout"
        },
        {
          "output_type": "execute_result",
          "data": {
            "text/plain": [
              "[0.1448018103837967, 0.8942307829856873]"
            ]
          },
          "metadata": {
            "tags": []
          },
          "execution_count": 87
        }
      ]
    },
    {
      "cell_type": "code",
      "metadata": {
        "id": "GxMMQuTQIyVu",
        "colab_type": "code",
        "colab": {}
      },
      "source": [
        "cost_df = pd.DataFrame(model.history.history)"
      ],
      "execution_count": 0,
      "outputs": []
    },
    {
      "cell_type": "code",
      "metadata": {
        "id": "7VZO-jI6KFIP",
        "colab_type": "code",
        "outputId": "bb375342-b5da-4457-eb9d-9361c64297fd",
        "colab": {
          "base_uri": "https://localhost:8080/",
          "height": 283
        }
      },
      "source": [
        "cost_df.plot()"
      ],
      "execution_count": 0,
      "outputs": [
        {
          "output_type": "execute_result",
          "data": {
            "text/plain": [
              "<matplotlib.axes._subplots.AxesSubplot at 0x7f93eb314dd8>"
            ]
          },
          "metadata": {
            "tags": []
          },
          "execution_count": 92
        },
        {
          "output_type": "display_data",
          "data": {
            "image/png": "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\n",
            "text/plain": [
              "<Figure size 432x288 with 1 Axes>"
            ]
          },
          "metadata": {
            "tags": [],
            "needs_background": "light"
          }
        }
      ]
    },
    {
      "cell_type": "code",
      "metadata": {
        "id": "uCy5CPxYKYqZ",
        "colab_type": "code",
        "outputId": "beb5a76c-9f83-4683-e570-743a5b40a8a8",
        "colab": {
          "base_uri": "https://localhost:8080/",
          "height": 202
        }
      },
      "source": [
        "cost_df"
      ],
      "execution_count": 0,
      "outputs": [
        {
          "output_type": "execute_result",
          "data": {
            "text/html": [
              "<div>\n",
              "<style scoped>\n",
              "    .dataframe tbody tr th:only-of-type {\n",
              "        vertical-align: middle;\n",
              "    }\n",
              "\n",
              "    .dataframe tbody tr th {\n",
              "        vertical-align: top;\n",
              "    }\n",
              "\n",
              "    .dataframe thead th {\n",
              "        text-align: right;\n",
              "    }\n",
              "</style>\n",
              "<table border=\"1\" class=\"dataframe\">\n",
              "  <thead>\n",
              "    <tr style=\"text-align: right;\">\n",
              "      <th></th>\n",
              "      <th>loss</th>\n",
              "      <th>accuracy</th>\n",
              "    </tr>\n",
              "  </thead>\n",
              "  <tbody>\n",
              "    <tr>\n",
              "      <th>0</th>\n",
              "      <td>0.329436</td>\n",
              "      <td>0.864456</td>\n",
              "    </tr>\n",
              "    <tr>\n",
              "      <th>1</th>\n",
              "      <td>0.136657</td>\n",
              "      <td>0.947086</td>\n",
              "    </tr>\n",
              "    <tr>\n",
              "      <th>2</th>\n",
              "      <td>0.102779</td>\n",
              "      <td>0.960123</td>\n",
              "    </tr>\n",
              "    <tr>\n",
              "      <th>3</th>\n",
              "      <td>0.073709</td>\n",
              "      <td>0.972393</td>\n",
              "    </tr>\n",
              "    <tr>\n",
              "      <th>4</th>\n",
              "      <td>0.073639</td>\n",
              "      <td>0.972009</td>\n",
              "    </tr>\n",
              "  </tbody>\n",
              "</table>\n",
              "</div>"
            ],
            "text/plain": [
              "       loss  accuracy\n",
              "0  0.329436  0.864456\n",
              "1  0.136657  0.947086\n",
              "2  0.102779  0.960123\n",
              "3  0.073709  0.972393\n",
              "4  0.073639  0.972009"
            ]
          },
          "metadata": {
            "tags": []
          },
          "execution_count": 93
        }
      ]
    },
    {
      "cell_type": "code",
      "metadata": {
        "id": "MwNJNuGNKgH6",
        "colab_type": "code",
        "colab": {}
      },
      "source": [
        "# Clearly After 4th epoch, there is no significant variations.\n",
        "# Thus we limit our epochs to epoch=4\n",
        "# We have definetely overfitted our data\n",
        "# So we have to use dropout function."
      ],
      "execution_count": 0,
      "outputs": []
    }
  ]
}
